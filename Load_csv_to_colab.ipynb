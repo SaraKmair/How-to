{
  "nbformat": 4,
  "nbformat_minor": 0,
  "metadata": {
    "colab": {
      "name": "Load_csv_to_colab.ipynb",
      "provenance": [],
      "authorship_tag": "ABX9TyO6QD3jhPhbovvIxgLYBvLi"
    },
    "kernelspec": {
      "name": "python3",
      "display_name": "Python 3"
    },
    "language_info": {
      "name": "python"
    }
  },
  "cells": [
    {
      "cell_type": "code",
      "execution_count": null,
      "metadata": {
        "id": "ZaGBki3Xu71J"
      },
      "outputs": [],
      "source": [
        "# read csv file from google drive into Colaboratory:\n",
        "!pip install -U -q PyDrive\n",
        "from pydrive.auth import GoogleAuth\n",
        "from pydrive.drive import GoogleDrive\n",
        "from google.colab import auth\n",
        "from oauth2client.client import GoogleCredentials\n",
        "# Authenticate and create the PyDrive client.\n",
        "auth.authenticate_user()\n",
        "gauth = GoogleAuth()\n",
        "gauth.credentials = GoogleCredentials.get_application_default()\n",
        "drive = GoogleDrive(gauth)\n",
        "import pandas as pd"
      ]
    },
    {
      "cell_type": "code",
      "source": [
        "#read df\n",
        "link = 'https://drive.google.com/open?id=# The shareable link' \n",
        "fluff, id = link.split('=')\n",
        "print (id) "
      ],
      "metadata": {
        "id": "9SLKeJLkvCkW"
      },
      "execution_count": null,
      "outputs": []
    },
    {
      "cell_type": "code",
      "source": [
        "downloaded = drive.CreateFile({'id':id}) \n",
        "downloaded.GetContentFile('fileName.csv')  \n",
        "df = pd.read_csv('fileName.csv', sep=\",\")\n",
        "# Dataset is now stored in a Pandas Dataframe"
      ],
      "metadata": {
        "id": "yKlVCy2ZvNR0"
      },
      "execution_count": null,
      "outputs": []
    }
  ]
}