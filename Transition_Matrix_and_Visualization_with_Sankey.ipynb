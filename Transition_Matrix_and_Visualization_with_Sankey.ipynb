{
  "nbformat": 4,
  "nbformat_minor": 0,
  "metadata": {
    "colab": {
      "name": "Transition Matrix and Visualization with Sankey.ipynb",
      "provenance": [],
      "authorship_tag": "ABX9TyOvzb8G1h0qMEWYYr3FirKm",
      "include_colab_link": true
    },
    "kernelspec": {
      "name": "python3",
      "display_name": "Python 3"
    },
    "language_info": {
      "name": "python"
    }
  },
  "cells": [
    {
      "cell_type": "markdown",
      "metadata": {
        "id": "view-in-github",
        "colab_type": "text"
      },
      "source": [
        "<a href=\"https://colab.research.google.com/github/SaraKmair/How-to/blob/master/Transition_Matrix_and_Visualization_with_Sankey.ipynb\" target=\"_parent\"><img src=\"https://colab.research.google.com/assets/colab-badge.svg\" alt=\"Open In Colab\"/></a>"
      ]
    },
    {
      "cell_type": "code",
      "execution_count": null,
      "metadata": {
        "id": "C_ZtXQS-R4Za"
      },
      "outputs": [],
      "source": [
        "#data frame should be in a shape of unique indentifiers, segment each ID belongs to, the period considered (timeline)"
      ]
    },
    {
      "cell_type": "code",
      "source": [
        "#cross tab the segments to get the customers transition count between the segments\n",
        "t12 = df.crosstab('segment1', 'segment2')"
      ],
      "metadata": {
        "id": "4DnjjbMLSYpD"
      },
      "execution_count": null,
      "outputs": []
    },
    {
      "cell_type": "markdown",
      "source": [
        "## Sankey Diagram"
      ],
      "metadata": {
        "id": "Ib-vkxHlS_wd"
      }
    },
    {
      "cell_type": "code",
      "source": [
        "#import libraries \n",
        "import plotly\n",
        "from plotly import graph_objs as go "
      ],
      "metadata": {
        "id": "6zNL8K7ES3mj"
      },
      "execution_count": null,
      "outputs": []
    },
    {
      "cell_type": "code",
      "source": [
        "fig = go.Figure(data = [go.Sankey(\n",
        "    arrangement  = 'snap',\n",
        "    node = dict(\n",
        "        pad = 75,\n",
        "        thickness = 15, \n",
        "        line = dict(color = 'black', width = 0.5)\n",
        ",\n",
        "    #segment names \n",
        "    labels = [#fill with segments names\n",
        "              ],\n",
        "    #color for each node \n",
        "    color = [],\n",
        "         ),\n",
        "         link = dict(\n",
        "             #specify connection # of the node where the connection starts and ends\n",
        "             #e.g first connect is from node 0 source to node 6 target \n",
        "             #number of the \n",
        "             source = [],\n",
        "             raget = [], \n",
        "             value = [],\n",
        "             color = ''\n",
        "         )\n",
        ")])"
      ],
      "metadata": {
        "id": "f0ddlcIaTJFk"
      },
      "execution_count": null,
      "outputs": []
    },
    {
      "cell_type": "code",
      "source": [
        "fig.update_layout(title_text = '', font_size = 14, width = 900, height = 600)"
      ],
      "metadata": {
        "id": "o6zT8N-dWJZz"
      },
      "execution_count": null,
      "outputs": []
    },
    {
      "cell_type": "code",
      "source": [
        "fig.write_html('')"
      ],
      "metadata": {
        "id": "n7QQ81ivWT2C"
      },
      "execution_count": null,
      "outputs": []
    }
  ]
}